{
 "cells": [
  {
   "metadata": {
    "ExecuteTime": {
     "end_time": "2025-05-08T09:48:03.045319Z",
     "start_time": "2025-05-08T09:48:03.036258Z"
    }
   },
   "cell_type": "code",
   "source": [
    "from dotenv import load_dotenv\n",
    "\n",
    "# env 파일을 불러옴\n",
    "load_dotenv()"
   ],
   "id": "a47330e3df8b2586",
   "outputs": [
    {
     "data": {
      "text/plain": [
       "True"
      ]
     },
     "execution_count": 2,
     "metadata": {},
     "output_type": "execute_result"
    }
   ],
   "execution_count": 2
  },
  {
   "metadata": {
    "ExecuteTime": {
     "end_time": "2025-05-08T09:49:17.215674Z",
     "start_time": "2025-05-08T09:49:16.699462Z"
    }
   },
   "cell_type": "code",
   "source": [
    "from langchain_openai import ChatOpenAI\n",
    "\n",
    "llm = ChatOpenAI()"
   ],
   "id": "ca6dbf4ff5e23567",
   "outputs": [],
   "execution_count": 3
  },
  {
   "metadata": {
    "ExecuteTime": {
     "end_time": "2025-05-08T09:49:51.949717Z",
     "start_time": "2025-05-08T09:49:49.269694Z"
    }
   },
   "cell_type": "code",
   "source": "ai_message = llm.invoke(\"인프런의 어떤 강의가 있나요?\")",
   "id": "5404ce72d2b50d23",
   "outputs": [
    {
     "data": {
      "text/plain": [
       "AIMessage(content=\"인프런은 다양한 주제의 강의를 제공하고 있습니다. 개발, 마케팅, 디자인, 비즈니스, 언어 및 학문 등 다양한 분야의 강의를 수강할 수 있습니다. 인기 있는 강의로는 '자바스크립트 완벽 가이드', '부동산투자 마스터', '데이터 분석 가이드', '디자인 툴 마스터 클래스' 등이 있습니다. 또한 취미나 취업을 위한 강의도 다양하게 제공되고 있습니다. 원하는 분야에 맞는 강의를 선택하여 수강할 수 있으니 관심 있는 분야의 강의를 찾아보시기 바랍니다.\", additional_kwargs={'refusal': None}, response_metadata={'token_usage': {'completion_tokens': 219, 'prompt_tokens': 26, 'total_tokens': 245, 'completion_tokens_details': {'accepted_prediction_tokens': 0, 'audio_tokens': 0, 'reasoning_tokens': 0, 'rejected_prediction_tokens': 0}, 'prompt_tokens_details': {'audio_tokens': 0, 'cached_tokens': 0}}, 'model_name': 'gpt-3.5-turbo-0125', 'system_fingerprint': None, 'id': 'chatcmpl-BUsAwkITrEqJ0FUCNdKxMY1IDwMFT', 'service_tier': 'default', 'finish_reason': 'stop', 'logprobs': None}, id='run--3752651e-365d-464d-b1cb-30769d6e64ae-0', usage_metadata={'input_tokens': 26, 'output_tokens': 219, 'total_tokens': 245, 'input_token_details': {'audio': 0, 'cache_read': 0}, 'output_token_details': {'audio': 0, 'reasoning': 0}})"
      ]
     },
     "execution_count": 4,
     "metadata": {},
     "output_type": "execute_result"
    }
   ],
   "execution_count": 4
  },
  {
   "metadata": {},
   "cell_type": "code",
   "outputs": [],
   "execution_count": null,
   "source": "",
   "id": "9276c59274955bec"
  }
 ],
 "metadata": {
  "kernelspec": {
   "name": "python3",
   "language": "python",
   "display_name": "Python 3 (ipykernel)"
  }
 },
 "nbformat": 5,
 "nbformat_minor": 9
}
