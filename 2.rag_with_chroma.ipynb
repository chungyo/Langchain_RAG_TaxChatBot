{
 "cells": [
  {
   "metadata": {},
   "cell_type": "markdown",
   "source": [
    "1. 문서 내용을 읽는다\n",
    "2. 문서를 쪼갠다.\n",
    "    - 토큰수 초과로 답변을 생성하지 못할 수 있고\n",
    "    - 문서가 길면 답변 생성이 오래걸림\n",
    "3. 임베딩 -> 벡터 데이터베이스 저장\n",
    "4. 질문이 있을 때, 벡터 데이터베이스에 유사도 검색\n",
    "5. 유사도 검색으로 가져온 문서를 LLM에 질문과 같이 전달"
   ],
   "id": "c584bbcb06b27e54"
  },
  {
   "metadata": {
    "ExecuteTime": {
     "end_time": "2025-05-11T09:46:35.553617Z",
     "start_time": "2025-05-11T09:46:34.591365Z"
    }
   },
   "cell_type": "code",
   "source": [
    "from dotenv import load_dotenv\n",
    "from langchain_community.document_loaders import Docx2txtLoader\n",
    "from langchain_text_splitters import RecursiveCharacterTextSplitter\n",
    "from tenacity import wait_chain\n",
    "\n",
    "text_splitter = RecursiveCharacterTextSplitter(\n",
    "    chunk_size=1500, # 청크 하나\n",
    "    chunk_overlap=200, # 자를때 딱딱 나눠서 자르는게 아니라 어느정도 겹치게 잘라주는 것\n",
    ")\n",
    "\n",
    "loader = Docx2txtLoader('./tax.docx')\n",
    "document_list = loader.load_and_split(text_splitter=text_splitter)"
   ],
   "id": "2730c8a01c9a1125",
   "outputs": [],
   "execution_count": 9
  },
  {
   "metadata": {
    "ExecuteTime": {
     "end_time": "2025-05-11T09:55:16.251204Z",
     "start_time": "2025-05-11T09:55:16.193123Z"
    }
   },
   "cell_type": "code",
   "source": [
    "from dotenv import load_dotenv\n",
    "from langchain_openai import OpenAIEmbeddings\n",
    "\n",
    "load_dotenv()\n",
    "embedding = OpenAIEmbeddings(model='text-embedding-3-large') # 디폴트 모델이 별로라 성능 좋은 모델 넣어준"
   ],
   "id": "749a834b88602b1",
   "outputs": [],
   "execution_count": 13
  },
  {
   "metadata": {
    "ExecuteTime": {
     "end_time": "2025-05-11T10:34:08.694608Z",
     "start_time": "2025-05-11T10:34:08.688365Z"
    }
   },
   "cell_type": "code",
   "source": [
    "from langchain_chroma import Chroma\n",
    "\n",
    "# database = Chroma.from_documents(documents=document_list, embedding=embedding, collection_name='chroma-tax',persist_directory=\"./chroma\")\n",
    "\n",
    "database = Chroma(collection_name='chroma-tax', persist_directory='./chroma', embedding_function=embedding)"
   ],
   "id": "eb897bf7a4320f25",
   "outputs": [],
   "execution_count": 45
  },
  {
   "metadata": {
    "ExecuteTime": {
     "end_time": "2025-05-11T10:01:34.488131Z",
     "start_time": "2025-05-11T10:01:33.552896Z"
    }
   },
   "cell_type": "code",
   "source": [
    "query = '연봉 5천만원의 직장인의 소득세는 얼마인가요?'\n",
    "retrieved_docs = database.similarity_search(query, k=3)"
   ],
   "id": "cd2d86ac014b59e1",
   "outputs": [],
   "execution_count": 21
  },
  {
   "metadata": {
    "ExecuteTime": {
     "end_time": "2025-05-11T10:29:45.194095Z",
     "start_time": "2025-05-11T10:29:45.157783Z"
    }
   },
   "cell_type": "code",
   "source": [
    "from langchain_openai import ChatOpenAI\n",
    "llm = ChatOpenAI(model='gpt-4o')"
   ],
   "id": "f77b98559b9050ae",
   "outputs": [],
   "execution_count": 34
  },
  {
   "metadata": {
    "ExecuteTime": {
     "end_time": "2025-05-11T10:04:20.765394Z",
     "start_time": "2025-05-11T10:04:20.762648Z"
    }
   },
   "cell_type": "code",
   "source": [
    "# prompt = f\"\"\"[Identity]\n",
    "# - 당신은 최고의 한국 소득세 전문가 입니다\n",
    "# - [Context]를 참고해서 사용자의 질문에 답변해주세요\n",
    "#\n",
    "# [Context]\n",
    "# {retrieved_docs}\n",
    "#\n",
    "# Question: {query}\n",
    "# \"\"\""
   ],
   "id": "58e76994d59ce8f8",
   "outputs": [],
   "execution_count": 24
  },
  {
   "metadata": {
    "ExecuteTime": {
     "end_time": "2025-05-11T10:04:32.263532Z",
     "start_time": "2025-05-11T10:04:22.057369Z"
    }
   },
   "cell_type": "code",
   "source": "# ai_message = llm.invoke(prompt)",
   "id": "b025b52dbfa86a93",
   "outputs": [],
   "execution_count": 25
  },
  {
   "metadata": {
    "ExecuteTime": {
     "end_time": "2025-05-11T10:04:47.791262Z",
     "start_time": "2025-05-11T10:04:47.786818Z"
    }
   },
   "cell_type": "code",
   "source": "# ai_message.content",
   "id": "d0f5236086fd7fec",
   "outputs": [
    {
     "data": {
      "text/plain": [
       "'연봉 5천만원의 직장인의 소득세 계산은 다음과 같은 단계로 이루어집니다. 한국의 소득세는 기본세율을 사용하며, 각 구간에 따라 세율이 다르게 적용됩니다. 2023년 기준으로 설명드리겠습니다. \\n\\n1. **과세표준**을 계산하기 위해 우선 연봉에서 근로소득공제 및 각종 소득 공제를 차감해야 합니다. \\n\\n2. **근로소득공제**: 연봉 5천만원에 대한 근로소득공제는 다음과 같습니다.\\n   - 3,000만원 이하: 소득의 70%\\n   - 3,000만원 초과 ~ 4,500만원 이하: 2,100만원 + 3,000만원 초과분의 40%\\n   - 4,500만원 초과 ~ 1억원 이하: 2,700만원 + 4,500만원 초과분의 15%\\n\\n   연봉이 5천만원이므로, 근로소득공제는 2,700만원 + (5,000만원 - 4,500만원) * 15% = 2,775만원이 됩니다.\\n\\n3. 근로소득공제를 연봉에서 차감하여 **과세표준**을 계산합니다:\\n   - 과세표준 = 5,000만원 - 2,775만원 = 2,225만원\\n\\n4. **소득세율 적용**:\\n   - 1,200만원 이하: 6%\\n   - 1,200만원 초과 ~ 4,600만원 이하: 72만원 + (1,200만원 초과분의 15%)\\n   \\n   과세표준 2,225만원이므로, 1,200만원 초과분에 대해 15% 세율이 적용됩니다.\\n   - 소득세 = 72만원 + (2,225만원 - 1,200만원) * 15% = 72만원 + 1,025만원 * 0.15 = 72만원 + 153.75만원 = 225.75만원\\n\\n따라서 연봉 5천만원인 직장인의 소득세는 대략 225만 7,500원이 됩니다.\\n\\n이 계산은 단순화를 위해 다른 각종 세액 감면, 특별 공제 등을 적용하지 않았습니다. 실제 세부 항목을 적용할 경우 결과가 달라질 수 있습니다. 정확한 정보는 국세청의 연말정산 프로그램을 활용하시기 바랍니다.'"
      ]
     },
     "execution_count": 26,
     "metadata": {},
     "output_type": "execute_result"
    }
   ],
   "execution_count": 26
  },
  {
   "metadata": {
    "ExecuteTime": {
     "end_time": "2025-05-11T10:12:36.363277Z",
     "start_time": "2025-05-11T10:12:35.466470Z"
    }
   },
   "cell_type": "code",
   "source": "%pip install -U langchain langchainhub --quiet",
   "id": "ae71f0d00d1f69d4",
   "outputs": [
    {
     "name": "stdout",
     "output_type": "stream",
     "text": [
      "Note: you may need to restart the kernel to use updated packages.\n"
     ]
    }
   ],
   "execution_count": 28
  },
  {
   "metadata": {
    "ExecuteTime": {
     "end_time": "2025-05-11T10:24:34.567407Z",
     "start_time": "2025-05-11T10:24:34.336262Z"
    }
   },
   "cell_type": "code",
   "source": [
    "from langchain import hub\n",
    "\n",
    "prompt = hub.pull(\"rlm/rag-prompt\")\n"
   ],
   "id": "82f3362c92113c32",
   "outputs": [
    {
     "name": "stderr",
     "output_type": "stream",
     "text": [
      "/opt/anaconda3/envs/langchain-env/lib/python3.10/site-packages/langsmith/client.py:272: LangSmithMissingAPIKeyWarning: API key must be provided when using hosted LangSmith API\n",
      "  warnings.warn(\n"
     ]
    },
    {
     "data": {
      "text/plain": [
       "ChatPromptTemplate(input_variables=['context', 'question'], input_types={}, partial_variables={}, metadata={'lc_hub_owner': 'rlm', 'lc_hub_repo': 'rag-prompt', 'lc_hub_commit_hash': '50442af133e61576e74536c6556cefe1fac147cad032f4377b60c436e6cdcb6e'}, messages=[HumanMessagePromptTemplate(prompt=PromptTemplate(input_variables=['context', 'question'], input_types={}, partial_variables={}, template=\"You are an assistant for question-answering tasks. Use the following pieces of retrieved context to answer the question. If you don't know the answer, just say that you don't know. Use three sentences maximum and keep the answer concise.\\nQuestion: {question} \\nContext: {context} \\nAnswer:\"), additional_kwargs={})])"
      ]
     },
     "execution_count": 30,
     "metadata": {},
     "output_type": "execute_result"
    }
   ],
   "execution_count": 30
  },
  {
   "metadata": {
    "ExecuteTime": {
     "end_time": "2025-05-11T10:35:11.351219Z",
     "start_time": "2025-05-11T10:35:11.347534Z"
    }
   },
   "cell_type": "code",
   "source": [
    "from langchain.chains import RetrievalQA\n",
    "\n",
    "qa_chain = RetrievalQA.from_chain_type(\n",
    "    llm=llm,\n",
    "    retriever=database.as_retriever(),\n",
    "    chain_type_kwargs={\"prompt\": prompt}\n",
    ")"
   ],
   "id": "4dff8ef85a2610d9",
   "outputs": [],
   "execution_count": 50
  },
  {
   "metadata": {
    "ExecuteTime": {
     "end_time": "2025-05-11T10:35:15.778922Z",
     "start_time": "2025-05-11T10:35:13.175107Z"
    }
   },
   "cell_type": "code",
   "source": "ai_message = qa_chain({\"query\": query})",
   "id": "1822d344ed905bce",
   "outputs": [],
   "execution_count": 51
  },
  {
   "metadata": {
    "ExecuteTime": {
     "end_time": "2025-05-11T10:35:16.613287Z",
     "start_time": "2025-05-11T10:35:16.609078Z"
    }
   },
   "cell_type": "code",
   "source": "ai_message",
   "id": "b36851c8428afce0",
   "outputs": [
    {
     "data": {
      "text/plain": [
       "{'query': '연봉 5천만원의 직장인의 소득세는 얼마인가요?',\n",
       " 'result': '연봉 5천만 원의 직장인의 소득세는 기본세율에 따라 계산됩니다. 기본세율은 소득 구간에 따라 누진세율로 적용되며, 연봉과 각종 공제 항목에 따라 정확한 세액이 결정됩니다. 구체적인 계산을 위해서는 소득공제와 세액공제를 감안하여 세무 대리인과 상담하거나 국세청 홈택스를 이용하세요.'}"
      ]
     },
     "execution_count": 52,
     "metadata": {},
     "output_type": "execute_result"
    }
   ],
   "execution_count": 52
  }
 ],
 "metadata": {
  "kernelspec": {
   "name": "python3",
   "language": "python",
   "display_name": "Python 3 (ipykernel)"
  }
 },
 "nbformat": 5,
 "nbformat_minor": 9
}
